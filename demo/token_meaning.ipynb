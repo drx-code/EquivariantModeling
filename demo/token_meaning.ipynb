{
 "cells": [
  {
   "cell_type": "code",
   "execution_count": 1,
   "metadata": {},
   "outputs": [],
   "source": [
    "import torch\n",
    "import numpy as np"
   ]
  },
  {
   "cell_type": "markdown",
   "metadata": {},
   "source": [
    "## Load tokenizer"
   ]
  },
  {
   "cell_type": "code",
   "execution_count": 2,
   "metadata": {},
   "outputs": [
    {
     "name": "stdout",
     "output_type": "stream",
     "text": [
      "[2025-03-14 21:15:51,723] [INFO] [real_accelerator.py:191:get_accelerator] Setting ds_accelerator to cuda (auto detect)\n",
      "Only finetune Decoder\n",
      "Restored from ../pretrained_models/tokenizer.ckpt\n"
     ]
    }
   ],
   "source": [
    "import sys\n",
    "sys.path.append(\"..\")\n",
    "from omegaconf import OmegaConf\n",
    "from scripts.train_tokenizer import instantiate_from_config\n",
    "config = \"../configs/second_stage/tokenizer_config.yaml\"\n",
    "config = OmegaConf.load(config)\n",
    "model = instantiate_from_config(config[\"model\"])\n",
    "model = model.eval()\n",
    "model = model.to(\"cuda\")"
   ]
  },
  {
   "cell_type": "markdown",
   "metadata": {},
   "source": [
    "## Load image"
   ]
  },
  {
   "cell_type": "code",
   "execution_count": 3,
   "metadata": {},
   "outputs": [],
   "source": [
    "import os\n",
    "from PIL import Image\n",
    "import torchvision.transforms as transforms\n",
    "def center_crop_to_multiple_of_16(image):\n",
    "    width, height = image.size\n",
    "    new_width = (width // 16) * 16\n",
    "    new_height = (height // 16) * 16\n",
    "\n",
    "    left = (width - new_width) / 2\n",
    "    top = (height - new_height) / 2\n",
    "    right = (width + new_width) / 2\n",
    "    bottom = (height + new_height) / 2\n",
    "    left = round(left)\n",
    "    top = round(top)\n",
    "    right = round(right)\n",
    "    bottom = round(bottom)\n",
    "\n",
    "    return image.crop((left, top, right, bottom))\n",
    "\n",
    "transform = transforms.Compose([\n",
    "      transforms.Resize(256),\n",
    "      center_crop_to_multiple_of_16,\n",
    "    #   transforms.CenterCrop(256),\n",
    "      transforms.ToTensor(),\n",
    "      transforms.Normalize(mean=[0.5, 0.5, 0.5], std=[0.5, 0.5, 0.5])\n",
    "])\n",
    "img = Image.open(\"token_meaning.JPEG\")\n",
    "img = transform(img).unsqueeze(dim=0).cuda()\n",
    "os.makedirs(\"gif_images\", exist_ok=True)"
   ]
  },
  {
   "cell_type": "markdown",
   "metadata": {},
   "source": [
    "## Progressively replacing the randomly initialized token sequence with tokens encoded from the ground truth images"
   ]
  },
  {
   "cell_type": "code",
   "execution_count": 5,
   "metadata": {},
   "outputs": [],
   "source": [
    "def custom_to_pil(x):\n",
    "    \"\"\"\n",
    "    save_image\n",
    "    \"\"\"\n",
    "    x = x.detach().cpu()\n",
    "    x = torch.clamp(x, -1., 1.)\n",
    "    x = (x + 1.)/2.\n",
    "    x = x.squeeze()\n",
    "    x = x.permute(1,2,0).numpy()\n",
    "    x = (255*x).astype(np.uint8)\n",
    "    x = Image.fromarray(x)\n",
    "    if not x.mode == \"RGB\":\n",
    "        x = x.convert(\"RGB\")\n",
    "    return x\n",
    "\n",
    "with model.ema_scope():\n",
    "    latent = model.encode(img).sample()\n",
    "    ratios = np.linspace(0.0, 1.0, latent.shape[1]+1)\n",
    "    z = torch.randn_like(latent).cuda()\n",
    "    num_tokens = latent.shape[1]\n",
    "    for k, ratio in enumerate(ratios):\n",
    "        decode_latent = torch.randn_like(latent).cuda()\n",
    "        decode_latent[:, :int(num_tokens* ratio)] = latent[:, :int(num_tokens* ratio)] \n",
    "        decode_latent[:, int(num_tokens* ratio):] = z[:, int(num_tokens* ratio):] \n",
    "        xrec, _ = model.decode(decode_latent)\n",
    "        xrec = custom_to_pil(xrec)\n",
    "        xrec.save(f\"gif_images/progressive_{k:03d}.png\")"
   ]
  },
  {
   "cell_type": "markdown",
   "metadata": {},
   "source": [
    "# make a gif concat all progressivily decoded images"
   ]
  },
  {
   "cell_type": "code",
   "execution_count": 6,
   "metadata": {},
   "outputs": [
    {
     "name": "stderr",
     "output_type": "stream",
     "text": [
      "/data/tmp/ipykernel_2836418/2872654345.py:9: DeprecationWarning: Starting with ImageIO v3 the behavior of this function will switch to that of iio.v3.imread. To keep the current behavior (and make this warning disappear) use `import imageio.v2 as imageio` or call `imageio.v2.imread` directly.\n",
      "  frames.append(imageio.imread(image_path))\n"
     ]
    }
   ],
   "source": [
    "import imageio\n",
    "output_gif = 'output.gif'\n",
    "images = [img for img in os.listdir(\"gif_images\") if img.endswith((\".png\", \".jpg\", \".jpeg\"))]\n",
    "images.sort()\n",
    "frames = []\n",
    "\n",
    "for image_name in images:\n",
    "    image_path = os.path.join(\"gif_images\", image_name)\n",
    "    frames.append(imageio.imread(image_path))\n",
    "\n",
    "imageio.mimsave(output_gif, frames, fps=6) "
   ]
  }
 ],
 "metadata": {
  "kernelspec": {
   "display_name": "Python 3",
   "language": "python",
   "name": "python3"
  },
  "language_info": {
   "codemirror_mode": {
    "name": "ipython",
    "version": 3
   },
   "file_extension": ".py",
   "mimetype": "text/x-python",
   "name": "python",
   "nbconvert_exporter": "python",
   "pygments_lexer": "ipython3",
   "version": "3.9.20"
  }
 },
 "nbformat": 4,
 "nbformat_minor": 2
}
